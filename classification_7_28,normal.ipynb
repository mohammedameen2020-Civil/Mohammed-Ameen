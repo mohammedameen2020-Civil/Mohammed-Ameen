{
  "nbformat": 4,
  "nbformat_minor": 0,
  "metadata": {
    "colab": {
      "name": "classification 7.28.ipynb",
      "provenance": [],
      "private_outputs": true,
      "authorship_tag": "ABX9TyMuqjFp+NJssWq2gA/0P1N1",
      "include_colab_link": true
    },
    "kernelspec": {
      "name": "python3",
      "display_name": "Python 3"
    },
    "accelerator": "GPU"
  },
  "cells": [
    {
      "cell_type": "markdown",
      "metadata": {
        "id": "view-in-github",
        "colab_type": "text"
      },
      "source": [
        "<a href=\"https://colab.research.google.com/github/mohammedameen2020-Civil/Mohammed-Ameen/blob/master/classification_7_28%2Cnormal.ipynb\" target=\"_parent\"><img src=\"https://colab.research.google.com/assets/colab-badge.svg\" alt=\"Open In Colab\"/></a>"
      ]
    },
    {
      "cell_type": "code",
      "metadata": {
        "id": "-RFs5bWfkWIs",
        "colab_type": "code",
        "colab": {}
      },
      "source": [
        "import pandas as pd\n",
        "import numpy as np\n",
        "import matplotlib.pyplot as plt\n",
        "%matplotlib inline\n",
        "import seaborn as sns\n",
        "sns.set(style=\"whitegrid\")\n",
        "import os\n",
        "import glob as gb\n",
        "import cv2\n",
        "import tensorflow as tf\n",
        "import keras"
      ],
      "execution_count": null,
      "outputs": []
    },
    {
      "cell_type": "code",
      "metadata": {
        "id": "ysdeNC5ikaP9",
        "colab_type": "code",
        "colab": {}
      },
      "source": [
        "### for Kaggle\n",
        "trainpath = ''\n",
        "testpath = ''\n",
        "predpath = ''\n",
        "\n",
        "### for Jupyter\n",
        "# trainpath = ''\n",
        "# testpath = ''\n",
        "# predpath = ''"
      ],
      "execution_count": null,
      "outputs": []
    },
    {
      "cell_type": "code",
      "metadata": {
        "id": "wYWmvrnmkhR8",
        "colab_type": "code",
        "colab": {}
      },
      "source": [
        "for folder in  os.listdir(trainpath + 'seg_train') : \n",
        "    files = gb.glob(pathname= str( trainpath +'seg_train//' + folder + '/*.jpg'))\n",
        "    print(f'For training data , found {len(files)} in folder {folder}')"
      ],
      "execution_count": null,
      "outputs": []
    },
    {
      "cell_type": "code",
      "metadata": {
        "id": "w7rs6wXPkkt3",
        "colab_type": "code",
        "colab": {}
      },
      "source": [
        "for folder in  os.listdir(testpath +'seg_test') : \n",
        "    files = gb.glob(pathname= str( testpath +'seg_test//' + folder + '/*.jpg'))\n",
        "    print(f'For testing data , found {len(files)} in folder {folder}')"
      ],
      "execution_count": null,
      "outputs": []
    },
    {
      "cell_type": "code",
      "metadata": {
        "id": "SdfCJ1tBkogU",
        "colab_type": "code",
        "colab": {}
      },
      "source": [
        "files = gb.glob(pathname= str(predpath +'seg_pred/*.jpg'))\n",
        "print(f'For Prediction data , found {len(files)}')"
      ],
      "execution_count": null,
      "outputs": []
    },
    {
      "cell_type": "code",
      "metadata": {
        "id": "Tlxrpz-_ks7G",
        "colab_type": "code",
        "colab": {}
      },
      "source": [
        "code = {'buildings':0 ,'forest':1,'glacier':2,'mountain':3,'sea':4,'street':5}\n",
        "\n",
        "def getcode(n) : \n",
        "    for x , y in code.items() : \n",
        "        if n == y : \n",
        "            return x"
      ],
      "execution_count": null,
      "outputs": []
    },
    {
      "cell_type": "code",
      "metadata": {
        "id": "1UCZIs0SkvPp",
        "colab_type": "code",
        "colab": {}
      },
      "source": [
        "size = []\n",
        "for folder in  os.listdir(trainpath +'seg_train') : \n",
        "    files = gb.glob(pathname= str( trainpath +'seg_train//' + folder + '/*.jpg'))\n",
        "    for file in files: \n",
        "        image = plt.imread(file)\n",
        "        size.append(image.shape)\n",
        "pd.Series(size).value_counts()"
      ],
      "execution_count": null,
      "outputs": []
    },
    {
      "cell_type": "code",
      "metadata": {
        "id": "tBfX4txjkynW",
        "colab_type": "code",
        "colab": {}
      },
      "source": [
        "for folder in  os.listdir(testpath +'seg_test') : \n",
        "    files = gb.glob(pathname= str( testpath +'seg_test//' + folder + '/*.jpg'))\n",
        "    for file in files: \n",
        "        image = plt.imread(file)\n",
        "        size.append(image.shape)\n",
        "pd.Series(size).value_counts()"
      ],
      "execution_count": null,
      "outputs": []
    },
    {
      "cell_type": "code",
      "metadata": {
        "id": "NohQGgNnk2ax",
        "colab_type": "code",
        "colab": {}
      },
      "source": [
        "size = []\n",
        "files = gb.glob(pathname= str(predpath +'seg_pred/*.jpg'))\n",
        "for file in files: \n",
        "    image = plt.imread(file)\n",
        "    size.append(image.shape)\n",
        "pd.Series(size).value_counts()"
      ],
      "execution_count": null,
      "outputs": []
    },
    {
      "cell_type": "code",
      "metadata": {
        "id": "DWD5woTok5rO",
        "colab_type": "code",
        "colab": {}
      },
      "source": [
        "s = 100\n"
      ],
      "execution_count": null,
      "outputs": []
    },
    {
      "cell_type": "code",
      "metadata": {
        "id": "5-wDz2rlk8zK",
        "colab_type": "code",
        "colab": {}
      },
      "source": [
        "X_train = []\n",
        "y_train = []\n",
        "for folder in  os.listdir(trainpath +'seg_train') : \n",
        "    files = gb.glob(pathname= str( trainpath +'seg_train//' + folder + '/*.jpg'))\n",
        "    for file in files: \n",
        "        image = cv2.imread(file)\n",
        "        image_array = cv2.resize(image , (s,s))\n",
        "        X_train.append(list(image_array))\n",
        "        y_train.append(code[folder])"
      ],
      "execution_count": null,
      "outputs": []
    },
    {
      "cell_type": "code",
      "metadata": {
        "id": "zcqLpg4UlAI8",
        "colab_type": "code",
        "colab": {}
      },
      "source": [
        "print(f'we have {len(X_train)} items in X_train')\n"
      ],
      "execution_count": null,
      "outputs": []
    },
    {
      "cell_type": "code",
      "metadata": {
        "id": "yfAeZliolDOY",
        "colab_type": "code",
        "colab": {}
      },
      "source": [
        "plt.figure(figsize=(20,20))\n",
        "for n , i in enumerate(list(np.random.randint(0,len(X_train),36))) : \n",
        "    plt.subplot(6,6,n+1)\n",
        "    plt.imshow(X_train[i])   \n",
        "    plt.axis('off')\n",
        "    plt.title(getcode(y_train[i]))\n"
      ],
      "execution_count": null,
      "outputs": []
    },
    {
      "cell_type": "code",
      "metadata": {
        "id": "v6K5RN-elGcH",
        "colab_type": "code",
        "colab": {}
      },
      "source": [
        "X_test = []\n",
        "y_test = []\n",
        "for folder in  os.listdir(testpath +'seg_test') : \n",
        "    files = gb.glob(pathname= str(testpath + 'seg_test//' + folder + '/*.jpg'))\n",
        "    for file in files: \n",
        "        image = cv2.imread(file)\n",
        "        image_array = cv2.resize(image , (s,s))\n",
        "        X_test.append(list(image_array))\n",
        "        y_test.append(code[folder])"
      ],
      "execution_count": null,
      "outputs": []
    },
    {
      "cell_type": "code",
      "metadata": {
        "id": "wWSNWayylKJV",
        "colab_type": "code",
        "colab": {}
      },
      "source": [
        "print(f'we have {len(X_test)} items in X_test')"
      ],
      "execution_count": null,
      "outputs": []
    },
    {
      "cell_type": "code",
      "metadata": {
        "id": "8xgtRerblMY9",
        "colab_type": "code",
        "colab": {}
      },
      "source": [
        "plt.figure(figsize=(20,20))\n",
        "for n , i in enumerate(list(np.random.randint(0,len(X_test),36))) : \n",
        "    plt.subplot(6,6,n+1)\n",
        "    plt.imshow(X_test[i])    \n",
        "    plt.axis('off')\n",
        "    plt.title(getcode(y_test[i]))\n"
      ],
      "execution_count": null,
      "outputs": []
    },
    {
      "cell_type": "code",
      "metadata": {
        "id": "lBV_899mlO-N",
        "colab_type": "code",
        "colab": {}
      },
      "source": [
        "X_pred = []\n",
        "files = gb.glob(pathname= str(predpath + 'seg_pred/*.jpg'))\n",
        "for file in files: \n",
        "    image = cv2.imread(file)\n",
        "    image_array = cv2.resize(image , (s,s))\n",
        "    X_pred.append(list(image_array))"
      ],
      "execution_count": null,
      "outputs": []
    },
    {
      "cell_type": "code",
      "metadata": {
        "id": "yAHKOCPLlTqg",
        "colab_type": "code",
        "colab": {}
      },
      "source": [
        "print(f'we have {len(X_pred)} items in X_pred')\n"
      ],
      "execution_count": null,
      "outputs": []
    },
    {
      "cell_type": "code",
      "metadata": {
        "id": "Ti4SOh0QlWAy",
        "colab_type": "code",
        "colab": {}
      },
      "source": [
        "plt.figure(figsize=(20,20))\n",
        "for n , i in enumerate(list(np.random.randint(0,len(X_pred),36))) : \n",
        "    plt.subplot(6,6,n+1)\n",
        "    plt.imshow(X_pred[i])    \n",
        "    plt.axis('off')"
      ],
      "execution_count": null,
      "outputs": []
    },
    {
      "cell_type": "code",
      "metadata": {
        "id": "apg_8i__lYJD",
        "colab_type": "code",
        "colab": {}
      },
      "source": [
        "X_train = np.array(X_train)\n",
        "X_test = np.array(X_test)\n",
        "X_pred_array = np.array(X_pred)\n",
        "y_train = np.array(y_train)\n",
        "y_test = np.array(y_test)\n",
        "\n",
        "print(f'X_train shape  is {X_train.shape}')\n",
        "print(f'X_test shape  is {X_test.shape}')\n",
        "print(f'X_pred shape  is {X_pred_array.shape}')\n",
        "print(f'y_train shape  is {y_train.shape}')\n",
        "print(f'y_test shape  is {y_test.shape}')"
      ],
      "execution_count": null,
      "outputs": []
    },
    {
      "cell_type": "code",
      "metadata": {
        "id": "wFNx5R4vlbw9",
        "colab_type": "code",
        "colab": {}
      },
      "source": [
        "KerasModel = keras.models.Sequential([\n",
        "        keras.layers.Conv2D(200,kernel_size=(3,3),activation='relu',input_shape=(s,s,3)),\n",
        "        keras.layers.Conv2D(150,kernel_size=(3,3),activation='relu'),\n",
        "        keras.layers.MaxPool2D(4,4),\n",
        "        keras.layers.Conv2D(120,kernel_size=(3,3),activation='relu'),    \n",
        "        keras.layers.Conv2D(80,kernel_size=(3,3),activation='relu'),    \n",
        "        keras.layers.Conv2D(50,kernel_size=(3,3),activation='relu'),\n",
        "        keras.layers.MaxPool2D(4,4),\n",
        "        keras.layers.Flatten() ,    \n",
        "        keras.layers.Dense(120,activation='relu') ,    \n",
        "        keras.layers.Dense(100,activation='relu') ,    \n",
        "        keras.layers.Dense(50,activation='relu') ,        \n",
        "        keras.layers.Dropout(rate=0.5) ,            \n",
        "        keras.layers.Dense(6,activation='softmax') ,    \n",
        "        ])"
      ],
      "execution_count": null,
      "outputs": []
    },
    {
      "cell_type": "code",
      "metadata": {
        "id": "3soGEeEnlgQm",
        "colab_type": "code",
        "colab": {}
      },
      "source": [
        "KerasModel.compile(optimizer ='adam',loss='sparse_categorical_crossentropy',metrics=['accuracy'])\n"
      ],
      "execution_count": null,
      "outputs": []
    },
    {
      "cell_type": "code",
      "metadata": {
        "id": "7diKqTaCliJR",
        "colab_type": "code",
        "colab": {}
      },
      "source": [
        "print('Model Details are : ')\n",
        "print(KerasModel.summary())"
      ],
      "execution_count": null,
      "outputs": []
    },
    {
      "cell_type": "code",
      "metadata": {
        "id": "lOKnRTj5lkiH",
        "colab_type": "code",
        "colab": {}
      },
      "source": [
        "epochs = 50\n",
        "ThisModel = KerasModel.fit(X_train, y_train, epochs=epochs,batch_size=64,verbose=1)"
      ],
      "execution_count": null,
      "outputs": []
    },
    {
      "cell_type": "code",
      "metadata": {
        "id": "u8AdQ0z-7vj_",
        "colab_type": "code",
        "colab": {}
      },
      "source": [
        "ModelLoss, ModelAccuracy = KerasModel.evaluate(X_test, y_test)\n",
        "\n",
        "print('Test Loss is {}'.format(ModelLoss))\n",
        "print('Test Accuracy is {}'.format(ModelAccuracy ))"
      ],
      "execution_count": null,
      "outputs": []
    },
    {
      "cell_type": "code",
      "metadata": {
        "id": "-40lLHv9705x",
        "colab_type": "code",
        "colab": {}
      },
      "source": [
        "y_pred = KerasModel.predict(X_test)\n",
        "\n",
        "print('Prediction Shape is {}'.format(y_pred.shape))"
      ],
      "execution_count": null,
      "outputs": []
    },
    {
      "cell_type": "code",
      "metadata": {
        "id": "HUbVbpI174sP",
        "colab_type": "code",
        "colab": {}
      },
      "source": [
        "y_result = KerasModel.predict(X_pred_array)\n",
        "\n",
        "print('Prediction Shape is {}'.format(y_result.shape))"
      ],
      "execution_count": null,
      "outputs": []
    },
    {
      "cell_type": "code",
      "metadata": {
        "id": "0ulaol7t779y",
        "colab_type": "code",
        "colab": {}
      },
      "source": [
        "plt.figure(figsize=(20,20))\n",
        "for n , i in enumerate(list(np.random.randint(0,len(X_pred),36))) : \n",
        "    plt.subplot(6,6,n+1)\n",
        "    plt.imshow(X_pred[i])    \n",
        "    plt.axis('off')\n",
        "    plt.title(getcode(np.argmax(y_result[i])))"
      ],
      "execution_count": null,
      "outputs": []
    },
    {
      "cell_type": "code",
      "metadata": {
        "id": "WnEKJy_t8AfS",
        "colab_type": "code",
        "colab": {}
      },
      "source": [
        ""
      ],
      "execution_count": null,
      "outputs": []
    }
  ]
}